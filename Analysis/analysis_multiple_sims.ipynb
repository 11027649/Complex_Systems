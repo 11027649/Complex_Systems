{
 "cells": [
  {
   "cell_type": "code",
   "execution_count": 1,
   "metadata": {},
   "outputs": [],
   "source": [
    "import pandas as pd\n",
    "import matplotlib.pyplot as plt\n",
    "import numpy as np"
   ]
  },
  {
   "cell_type": "code",
   "execution_count": 2,
   "metadata": {},
   "outputs": [
    {
     "ename": "NameError",
     "evalue": "name 'dicts' is not defined",
     "output_type": "error",
     "traceback": [
      "\u001b[0;31m---------------------------------------------------------------------------\u001b[0m",
      "\u001b[0;31mNameError\u001b[0m                                 Traceback (most recent call last)",
      "\u001b[0;32m<ipython-input-2-ecd8f34e5bcd>\u001b[0m in \u001b[0;36m<module>\u001b[0;34m\u001b[0m\n\u001b[0;32m----> 1\u001b[0;31m \u001b[0mdicts\u001b[0m \u001b[0;34m=\u001b[0m \u001b[0mdicts\u001b[0m \u001b[0;34m+\u001b[0m \u001b[0;34m[\u001b[0m\u001b[0mdicts\u001b[0m\u001b[0;34m[\u001b[0m\u001b[0;36m0\u001b[0m\u001b[0;34m]\u001b[0m\u001b[0;34m]\u001b[0m\u001b[0;34m\u001b[0m\u001b[0;34m\u001b[0m\u001b[0m\n\u001b[0m",
      "\u001b[0;31mNameError\u001b[0m: name 'dicts' is not defined"
     ]
    }
   ],
   "source": [
    "dicts = dicts + [dicts[0]]"
   ]
  },
  {
   "cell_type": "code",
   "execution_count": 51,
   "metadata": {},
   "outputs": [],
   "source": [
    "# Change filename to the name of the file in model/results you want to plot\n",
    "\n",
    "filenames = [#'result_reproduce_fit0_its100000_time20_20_10_36.csv',\\\n",
    "             'result_reproduce_fit0_its100000_addprob1_pref3_merged.csv',\\\n",
    "             'merged_dataframes_pref2.csv']\n",
    "             \n",
    "conditions = [#'reproduction',\n",
    "    'no_pref_att','callee_pref_att']             "
   ]
  },
  {
   "cell_type": "markdown",
   "metadata": {},
   "source": [
    "Koens stuff:"
   ]
  },
  {
   "cell_type": "code",
   "execution_count": 25,
   "metadata": {},
   "outputs": [],
   "source": [
    "def get_pos_neg_lines(data):\n",
    "    \"\"\"\n",
    "    Get absolute positive, negative and total changes in lines in this data\n",
    "    \"\"\"\n",
    "    \n",
    "    neg_changes = data[data['size_change'] < 0]['size_change'].abs().sum()\n",
    "    pos_changes = data[data['size_change'] > 0]['size_change'].abs().sum()\n",
    "    file_change = pos_changes - neg_changes         \n",
    "\n",
    "    return file_change, pos_changes, neg_changes\n",
    "\n",
    "\n",
    "def lines_per_commit(data_sim, commits):\n",
    "    \"\"\"\n",
    "    data_sim is the data for one simulation, commits is a list of indices at the commits\n",
    "    Returns the netto changes, the positive changes, negative changes and the max(insert, delete) changes as lists\n",
    "    \"\"\"\n",
    "    file_changes, change_poss, change_negs, change_maxs = [], [], [], []\n",
    "    prev_ind = 0\n",
    "    \n",
    "    # Iterate over the commits\n",
    "    for commit in commits:\n",
    "        # Create separate dataframe for this commit\n",
    "        data_commit = data_sim.iloc[prev_ind:commit]\n",
    "        # Get the changes in lines for this commit\n",
    "        file_change, change_pos, change_neg = get_pos_neg_lines(data_commit)\n",
    "        change_max = max(change_pos, change_neg)\n",
    "        \n",
    "        # Save these changes to separate lists\n",
    "        file_changes.append(file_change)\n",
    "        change_poss.append(change_pos)\n",
    "        change_negs.append(change_neg)\n",
    "        change_maxs.append(change_max) \n",
    "        \n",
    "        # Change previous index to new commit index\n",
    "        prev_ind = commit\n",
    "    \n",
    "    # Return the list of changes per commit\n",
    "    return file_changes, change_poss, change_negs, change_maxs        \n",
    "\n",
    "        \n",
    "    \n",
    "def get_lines_for_data(data, f0):\n",
    "    \"\"\"\n",
    "    TODO: do stuff with the results from the lines_per_commit\"\"\"\n",
    "    \n",
    "    # Add column with size changes\n",
    "    data['shift'] = data['code_size'].shift(periods=1, fill_value=0)\n",
    "    data['size_change'] = data['code_size']-data['shift']\n",
    "    \n",
    "    commit_sizes_runs = []\n",
    "    for sim in data['sim'].unique():\n",
    "        # Data for one sim\n",
    "        data_sim = data[data['sim']== sim]\n",
    "        # Commits\n",
    "        data_commits = data_sim[data_sim['fmin'] >= f0]\n",
    "        commits = list(data_commits['step'])\n",
    "        \n",
    "        # Lists of changes per commit\n",
    "        file_changes, change_poss, change_negs, change_maxs = lines_per_commit(data_sim, commits)\n",
    "        commit_sizes_runs.append([file_changes, change_poss, change_negs, change_maxs]) \n",
    "        \n",
    "    # TODO, write to file or smth\n",
    "    return commit_sizes_runs"
   ]
  },
  {
   "cell_type": "code",
   "execution_count": 52,
   "metadata": {},
   "outputs": [
    {
     "name": "stderr",
     "output_type": "stream",
     "text": [
      "/anaconda3/lib/python3.6/site-packages/ipykernel_launcher.py:48: SettingWithCopyWarning: \n",
      "A value is trying to be set on a copy of a slice from a DataFrame.\n",
      "Try using .loc[row_indexer,col_indexer] = value instead\n",
      "\n",
      "See the caveats in the documentation: http://pandas.pydata.org/pandas-docs/stable/indexing.html#indexing-view-versus-copy\n",
      "/anaconda3/lib/python3.6/site-packages/ipykernel_launcher.py:49: SettingWithCopyWarning: \n",
      "A value is trying to be set on a copy of a slice from a DataFrame.\n",
      "Try using .loc[row_indexer,col_indexer] = value instead\n",
      "\n",
      "See the caveats in the documentation: http://pandas.pydata.org/pandas-docs/stable/indexing.html#indexing-view-versus-copy\n"
     ]
    }
   ],
   "source": [
    "for file_number in range(len(filenames)):\n",
    "    data_ = pd.read_csv(filenames[file_number])\n",
    "    commit_sizes = get_lines_for_data(data_[1:1000000], .5)\n",
    "    for commit_number in range(len(commit_sizes)):\n",
    "        df = pd.DataFrame(commit_sizes[commit_number][3], columns=[\"colummn\"])\n",
    "        df.to_csv('simulation_results/commit_list' + str(commit_number) + conditions[file_number] + '.csv', index=False)"
   ]
  },
  {
   "cell_type": "code",
   "execution_count": 26,
   "metadata": {},
   "outputs": [
    {
     "name": "stderr",
     "output_type": "stream",
     "text": [
      "/anaconda3/lib/python3.6/site-packages/ipykernel_launcher.py:48: SettingWithCopyWarning: \n",
      "A value is trying to be set on a copy of a slice from a DataFrame.\n",
      "Try using .loc[row_indexer,col_indexer] = value instead\n",
      "\n",
      "See the caveats in the documentation: http://pandas.pydata.org/pandas-docs/stable/indexing.html#indexing-view-versus-copy\n",
      "/anaconda3/lib/python3.6/site-packages/ipykernel_launcher.py:49: SettingWithCopyWarning: \n",
      "A value is trying to be set on a copy of a slice from a DataFrame.\n",
      "Try using .loc[row_indexer,col_indexer] = value instead\n",
      "\n",
      "See the caveats in the documentation: http://pandas.pydata.org/pandas-docs/stable/indexing.html#indexing-view-versus-copy\n"
     ]
    },
    {
     "ename": "NameError",
     "evalue": "name 'ddata_no_rec' is not defined",
     "output_type": "error",
     "traceback": [
      "\u001b[0;31m---------------------------------------------------------------------------\u001b[0m",
      "\u001b[0;31mNameError\u001b[0m                                 Traceback (most recent call last)",
      "\u001b[0;32m<ipython-input-26-53698337d6ab>\u001b[0m in \u001b[0;36m<module>\u001b[0;34m\u001b[0m\n\u001b[1;32m      1\u001b[0m \u001b[0msimulation0_commits4\u001b[0m \u001b[0;34m=\u001b[0m \u001b[0mget_lines_for_data\u001b[0m\u001b[0;34m(\u001b[0m\u001b[0mdata_no_rec\u001b[0m\u001b[0;34m[\u001b[0m\u001b[0;36m1\u001b[0m\u001b[0;34m:\u001b[0m\u001b[0;36m100000\u001b[0m\u001b[0;34m]\u001b[0m\u001b[0;34m,\u001b[0m \u001b[0;36m.4\u001b[0m\u001b[0;34m)\u001b[0m\u001b[0;34m\u001b[0m\u001b[0;34m\u001b[0m\u001b[0m\n\u001b[1;32m      2\u001b[0m \u001b[0msimulation0_commits5\u001b[0m \u001b[0;34m=\u001b[0m \u001b[0mget_lines_for_data\u001b[0m\u001b[0;34m(\u001b[0m\u001b[0mdata_no_rec\u001b[0m\u001b[0;34m[\u001b[0m\u001b[0;36m1\u001b[0m\u001b[0;34m:\u001b[0m\u001b[0;36m100000\u001b[0m\u001b[0;34m]\u001b[0m\u001b[0;34m,\u001b[0m \u001b[0;36m.5\u001b[0m\u001b[0;34m)\u001b[0m\u001b[0;34m\u001b[0m\u001b[0;34m\u001b[0m\u001b[0m\n\u001b[0;32m----> 3\u001b[0;31m \u001b[0msimulation0_commits6\u001b[0m \u001b[0;34m=\u001b[0m \u001b[0mget_lines_for_data\u001b[0m\u001b[0;34m(\u001b[0m\u001b[0mddata_no_rec\u001b[0m\u001b[0;34m[\u001b[0m\u001b[0;36m1\u001b[0m\u001b[0;34m:\u001b[0m\u001b[0;36m100000\u001b[0m\u001b[0;34m]\u001b[0m\u001b[0;34m,\u001b[0m \u001b[0;36m.6\u001b[0m\u001b[0;34m)\u001b[0m\u001b[0;34m\u001b[0m\u001b[0;34m\u001b[0m\u001b[0m\n\u001b[0m",
      "\u001b[0;31mNameError\u001b[0m: name 'ddata_no_rec' is not defined"
     ]
    }
   ],
   "source": [
    "simulation0_commits4 = get_lines_for_data(data_no_rec[1:100000], .4)\n",
    "simulation0_commits5 = get_lines_for_data(data_no_rec[1:100000], .5)\n",
    "simulation0_commits6 = get_lines_for_data(data_no_rec[1:100000], .6)"
   ]
  },
  {
   "cell_type": "code",
   "execution_count": 34,
   "metadata": {},
   "outputs": [],
   "source": [
    "file1 = data_no_rec[1:100000]\n",
    "file2 = data_no_rec[1:100000]\n",
    "file3 = data_no_rec[1:100000]\n",
    "file1.to_csv('list1.csv', index=False)\n",
    "file2.to_csv('list2.csv', index=False)\n",
    "file3.to_csv('list3.csv', index=False)"
   ]
  },
  {
   "cell_type": "code",
   "execution_count": 33,
   "metadata": {},
   "outputs": [
    {
     "name": "stdout",
     "output_type": "stream",
     "text": [
      "17670\n",
      "768\n",
      "58\n"
     ]
    }
   ],
   "source": [
    "print(len(simulation0_commits4[0][0]))\n",
    "print(len(simulation0_commits5[0][0]))\n",
    "print(len(simulation0_commits6[0][0]))"
   ]
  },
  {
   "cell_type": "code",
   "execution_count": 21,
   "metadata": {},
   "outputs": [],
   "source": [
    "df = pd.DataFrame(time21_11_16_04_commits[0][3], columns=[\"colummn\"])\n",
    "df.to_csv('list.csv', index=False)"
   ]
  },
  {
   "cell_type": "code",
   "execution_count": 26,
   "metadata": {},
   "outputs": [
    {
     "name": "stdout",
     "output_type": "stream",
     "text": [
      "commit_list1.csv\n"
     ]
    }
   ],
   "source": [
    "name = 'commit_list' + str(1) + '.csv'\n",
    "print(name)"
   ]
  },
  {
   "cell_type": "code",
   "execution_count": 25,
   "metadata": {},
   "outputs": [
    {
     "data": {
      "text/plain": [
       "'1'"
      ]
     },
     "execution_count": 25,
     "metadata": {},
     "output_type": "execute_result"
    }
   ],
   "source": [
    "str(1)"
   ]
  },
  {
   "cell_type": "markdown",
   "metadata": {},
   "source": [
    "Get statistics"
   ]
  },
  {
   "cell_type": "code",
   "execution_count": 9,
   "metadata": {},
   "outputs": [],
   "source": [
    "def find_commits(data, f0, at_final=False):\n",
    "    \"\"\" \n",
    "    Returns a list with the timesteps where the fmin >= f0 and at the final timestep\n",
    "    \"\"\"\n",
    "#     commits = [data['step'].iloc[i] for i in range(len(data)) if data['fmin'].iloc[i] >= f0]\n",
    "    commits = list(data[data['fmin'] >= f0]['step'])\n",
    "\n",
    "    if at_final and commits[-1] != data['step'].iloc[-1]:\n",
    "        commits += [data['step'].iloc[-1]]\n",
    "    \n",
    "    return commits\n",
    "\n",
    "\n",
    "def get_pos_neg_lines(data):\n",
    "    \"\"\"\n",
    "    Get absolute positive, negative and total changes in lines in this data\n",
    "    \"\"\"\n",
    "    \n",
    "    neg_changes = data[data['size_change'] < 0]['size_change'].abs().sum()\n",
    "    pos_changes = data[data['size_change'] > 0]['size_change'].abs().sum()\n",
    "    file_change = pos_changes - neg_changes         \n",
    "\n",
    "    return file_change, pos_changes, neg_changes\n",
    "\n",
    "\n",
    "def get_pos_neg_changes(data):\n",
    "    \"\"\"\n",
    "    Get absolute positive, negative and total changes in this data\n",
    "    \"\"\"\n",
    "    pos_changes = data[(data['action']!='remove_method') & (data['changes'] >= 0)]['changes'].abs().sum()    \n",
    "    neg_changes = data[(data['action']=='remove_method') | (data['changes'] < 0)]['changes'].abs().sum()\n",
    "    file_change = pos_changes - neg_changes         \n",
    "\n",
    "    return file_change, pos_changes, neg_changes\n",
    "\n",
    "\n",
    "def get_changes(data, commits):\n",
    "    \"\"\"\n",
    "    Returns list with mean size of steps/lines/changes per commit\n",
    "    \"\"\"\n",
    "    stats_names = ['steps', 'lines_sum', 'lines_pos', 'lines_neg', 'lines_big', 'changes_sum', 'changes_pos', 'changes_neg', 'changes_big']\n",
    "    stats = {name : [] for name in stats_names}\n",
    "    \n",
    "    # Add column with size changes\n",
    "    data['shift'] = data['code_size'].shift(periods=1, fill_value=0)\n",
    "    data['size_change'] = data['code_size']-data['shift']\n",
    "    \n",
    "    # Iterate over commits\n",
    "    prev_ind = 0\n",
    "    for commit in commits:\n",
    "        data_commit = data.iloc[prev_ind:commit]\n",
    "        \n",
    "        stats['steps'].append(commit-prev_ind)\n",
    "        \n",
    "        # Get number of changes lines, added and deleted lines\n",
    "        file_change, change_pos, change_neg = get_pos_neg_lines(data_commit)\n",
    "        stats['lines_sum'].append(file_change)\n",
    "        stats['lines_pos'].append(change_pos)\n",
    "        stats['lines_neg'].append(change_neg)\n",
    "        stats['lines_big'].append(max(change_pos, change_neg))\n",
    "        \n",
    "        # Get the total, positive and negative changes\n",
    "        file_change, change_pos, change_neg = get_pos_neg_changes(data_commit)\n",
    "        stats['changes_sum'].append(file_change)\n",
    "        stats['changes_pos'].append(change_pos)\n",
    "        stats['changes_neg'].append(change_neg)\n",
    "        stats['changes_big'].append(max(change_pos, change_neg))\n",
    "        \n",
    "        prev_ind = commit\n",
    "        \n",
    "    return {name: np.array(stats[name]).mean() for name in stats_names}, stats_names\n",
    "#     return [np.array(stats[name]).mean() for name in stats_names], stats_names\n",
    "\n",
    "\n",
    "def get_action_proportions(data, commits):\n",
    "    \"\"\"\n",
    "    Returns a list with the proportion of actions in the commits\n",
    "    update, call, remove, create\"\"\"\n",
    "    # Initialize dict\n",
    "    action_names = ['update_method', 'call_method',\n",
    "                    'remove_method', 'create_method']\n",
    "    actions = {name : 0 for name in action_names}\n",
    "\n",
    "    # Count the actions\n",
    "    for commit in commits:\n",
    "        actions[data['action'].iloc[commit]] += 1\n",
    "    \n",
    "    # Return the list of action proportions\n",
    "    return [actions[name]/len(commits) for name in action_names]\n",
    "    \n",
    "    \n",
    "    "
   ]
  },
  {
   "cell_type": "code",
   "execution_count": 8,
   "metadata": {},
   "outputs": [],
   "source": [
    "def get_statistics(data, f0):\n",
    "    \"\"\"\n",
    "    Returns a dict with lists of statistical values per simulation\n",
    "    \n",
    "    \"\"\"\n",
    "    statistics = {\n",
    "        'f0': f0,\n",
    "        'fmax_means': [],\n",
    "        'fmin_means': [],\n",
    "        'f_commit_means': [],\n",
    "        'f_commit_mins': [],\n",
    "        'f_commit_maxs': [],\n",
    "        'num_commits': [],\n",
    "        \n",
    "        'steps':[], \n",
    "        'lines_sum':[],\n",
    "        'lines_pos':[],\n",
    "        'lines_neg':[],\n",
    "        'lines_big':[],\n",
    "        'changes_sum':[],\n",
    "        'changes_pos':[],\n",
    "        'changes_neg':[],\n",
    "        'changes_big':[],\n",
    "        \n",
    "        'action_props': []\n",
    "    }\n",
    "    \n",
    "    for sim in data['sim'].unique():\n",
    "        data_sim = data[data['sim']== sim]\n",
    "        data_commits = data_sim[data_sim['fmin'] >= f0]\n",
    "        commits = list(data_commits['step'])\n",
    "        \n",
    "        # mean fmin and fmax\n",
    "        statistics['fmin_means'].append(data_sim['fmin'].mean())\n",
    "        statistics['fmax_means'].append(data_sim['fmax'].mean())\n",
    "        \n",
    "        # mean, min, max f for a commit\n",
    "        statistics['f_commit_means'].append(data_commits['fmean'].mean())\n",
    "        statistics['f_commit_mins'].append(data_commits['fmin'].mean())\n",
    "        statistics['f_commit_maxs'].append(data_commits['fmax'].mean())\n",
    "        statistics['num_commits'].append(len(commits))               \n",
    "        \n",
    "        # Mean size of steps/lines/changes per commit\n",
    "        changes_dict, changes_names = get_changes(data_sim, commits)\n",
    "        for name in changes_names:\n",
    "            statistics[name].append(changes_dict[name])\n",
    "        \n",
    "        # Proportions last action\n",
    "        statistics['action_props'].append(get_action_proportions(data_sim, commits))\n",
    "        if sim %1==0:\n",
    "            print('running sim {} of {}'.format(sim, len(data['sim'].unique())))\n",
    "        \n",
    "        \n",
    "    return statistics\n",
    "\n",
    "\n",
    "def dicts_per_exp(datas):\n",
    "    dicts = []\n",
    "    for data in datas:\n",
    "        dicts.append(get_statistics(data, .5))\n",
    "        print('a dict is done')\n",
    "    return dicts"
   ]
  },
  {
   "cell_type": "code",
   "execution_count": 11,
   "metadata": {},
   "outputs": [
    {
     "name": "stdout",
     "output_type": "stream",
     "text": [
      "running sim 0 of 62\n",
      "running sim 1 of 62\n",
      "running sim 2 of 62\n",
      "running sim 3 of 62\n",
      "running sim 4 of 62\n",
      "running sim 5 of 62\n",
      "running sim 6 of 62\n",
      "running sim 7 of 62\n",
      "running sim 8 of 62\n",
      "running sim 9 of 62\n",
      "running sim 10 of 62\n",
      "running sim 11 of 62\n",
      "running sim 12 of 62\n",
      "running sim 13 of 62\n",
      "running sim 14 of 62\n",
      "running sim 15 of 62\n",
      "running sim 16 of 62\n",
      "running sim 17 of 62\n",
      "running sim 18 of 62\n",
      "running sim 19 of 62\n",
      "running sim 20 of 62\n",
      "running sim 21 of 62\n",
      "running sim 22 of 62\n",
      "running sim 23 of 62\n",
      "running sim 24 of 62\n",
      "running sim 25 of 62\n",
      "running sim 26 of 62\n",
      "running sim 27 of 62\n",
      "running sim 28 of 62\n",
      "running sim 29 of 62\n",
      "running sim 30 of 62\n",
      "running sim 31 of 62\n",
      "running sim 32 of 62\n",
      "running sim 33 of 62\n",
      "running sim 34 of 62\n",
      "running sim 35 of 62\n",
      "running sim 36 of 62\n",
      "running sim 37 of 62\n",
      "running sim 38 of 62\n",
      "running sim 39 of 62\n",
      "running sim 40 of 62\n",
      "running sim 41 of 62\n",
      "running sim 42 of 62\n",
      "running sim 43 of 62\n",
      "running sim 44 of 62\n",
      "running sim 45 of 62\n",
      "running sim 46 of 62\n",
      "running sim 47 of 62\n",
      "running sim 48 of 62\n",
      "running sim 49 of 62\n",
      "running sim 50 of 62\n",
      "running sim 51 of 62\n",
      "running sim 52 of 62\n",
      "running sim 53 of 62\n",
      "running sim 54 of 62\n",
      "running sim 55 of 62\n",
      "running sim 56 of 62\n",
      "running sim 57 of 62\n",
      "running sim 58 of 62\n",
      "running sim 59 of 62\n",
      "running sim 60 of 62\n",
      "running sim 61 of 62\n",
      "a dict is done\n",
      "running sim 0 of 60\n",
      "running sim 1 of 60\n",
      "running sim 2 of 60\n",
      "running sim 3 of 60\n",
      "running sim 4 of 60\n",
      "running sim 5 of 60\n",
      "running sim 6 of 60\n",
      "running sim 7 of 60\n",
      "running sim 8 of 60\n",
      "running sim 9 of 60\n",
      "running sim 10 of 60\n",
      "running sim 11 of 60\n",
      "running sim 12 of 60\n",
      "running sim 13 of 60\n",
      "running sim 14 of 60\n",
      "running sim 15 of 60\n",
      "running sim 16 of 60\n",
      "running sim 17 of 60\n",
      "running sim 18 of 60\n",
      "running sim 19 of 60\n",
      "running sim 20 of 60\n",
      "running sim 21 of 60\n",
      "running sim 22 of 60\n",
      "running sim 23 of 60\n",
      "running sim 24 of 60\n",
      "running sim 25 of 60\n",
      "running sim 26 of 60\n",
      "running sim 27 of 60\n",
      "running sim 28 of 60\n",
      "running sim 29 of 60\n",
      "running sim 30 of 60\n",
      "running sim 31 of 60\n",
      "running sim 32 of 60\n",
      "running sim 33 of 60\n",
      "running sim 34 of 60\n",
      "running sim 35 of 60\n",
      "running sim 36 of 60\n",
      "running sim 37 of 60\n",
      "running sim 38 of 60\n",
      "running sim 39 of 60\n",
      "running sim 40 of 60\n",
      "running sim 41 of 60\n",
      "running sim 42 of 60\n",
      "running sim 43 of 60\n",
      "running sim 44 of 60\n",
      "running sim 45 of 60\n",
      "running sim 46 of 60\n",
      "running sim 47 of 60\n",
      "running sim 48 of 60\n",
      "running sim 49 of 60\n",
      "running sim 50 of 60\n",
      "running sim 51 of 60\n",
      "running sim 52 of 60\n",
      "running sim 53 of 60\n",
      "running sim 54 of 60\n",
      "running sim 55 of 60\n",
      "running sim 56 of 60\n",
      "running sim 57 of 60\n",
      "running sim 58 of 60\n",
      "running sim 59 of 60\n",
      "a dict is done\n"
     ]
    }
   ],
   "source": [
    "dicts = dicts_per_exp(datas)"
   ]
  },
  {
   "cell_type": "markdown",
   "metadata": {},
   "source": [
    "Fmin over all steps"
   ]
  },
  {
   "cell_type": "code",
   "execution_count": 13,
   "metadata": {},
   "outputs": [
    {
     "data": {
      "image/png": "[encoded data removed]",
      "text/plain": [
       "<Figure size 432x288 with 1 Axes>"
      ]
     },
     "metadata": {
      "needs_background": "light"
     },
     "output_type": "display_data"
    }
   ],
   "source": [
    "# Get data\n",
    "plot_data = []\n",
    "for i in range(len(dicts)):\n",
    "    plot_data.append(np.array(dicts[i]['fmin_means']))\n",
    "    \n",
    "# Plot data\n",
    "plt.boxplot(plot_data)\n",
    "plt.xticks(range(1, len(dicts)+1),['Reproduction', 'No recursion', 'Delete statements'])\n",
    "plt.title('Mean minimal fitness per simulation')\n",
    "plt.ylabel('Mean minimal fitness')\n",
    "plt.savefig('fmin_means.png')"
   ]
  },
  {
   "cell_type": "markdown",
   "metadata": {},
   "source": [
    "Max fmin > f0"
   ]
  },
  {
   "cell_type": "code",
   "execution_count": 14,
   "metadata": {},
   "outputs": [
    {
     "data": {
      "image/png": "[encoded data removed]",
      "text/plain": [
       "<Figure size 432x288 with 1 Axes>"
      ]
     },
     "metadata": {
      "needs_background": "light"
     },
     "output_type": "display_data"
    }
   ],
   "source": [
    "# Get data\n",
    "plot_data = []\n",
    "for i in range(len(dicts)):\n",
    "    plot_data.append(np.array(dicts[i]['f_commit_mins']))\n",
    "    \n",
    "# Plot data\n",
    "plt.boxplot(plot_data)\n",
    "plt.xticks(range(1, len(dicts)+1),['Reproduction', 'No recursion', 'Delete statements'])\n",
    "plt.title('Mean minimal fitness of the commits per simulation')\n",
    "plt.ylabel('Mean minimal fitness')\n",
    "plt.savefig('f_commit_mins.png')"
   ]
  },
  {
   "cell_type": "markdown",
   "metadata": {},
   "source": [
    "Mean size of steps/lines/changes per commit"
   ]
  },
  {
   "cell_type": "code",
   "execution_count": 15,
   "metadata": {},
   "outputs": [
    {
     "data": {
      "image/png": "[encoded data removed]",
      "text/plain": [
       "<Figure size 432x288 with 1 Axes>"
      ]
     },
     "metadata": {
      "needs_background": "light"
     },
     "output_type": "display_data"
    }
   ],
   "source": [
    "# Get data\n",
    "plot_data = []\n",
    "for i in range(len(dicts)):\n",
    "    plot_data.append(np.array(dicts[i]['lines_big']))\n",
    "    \n",
    "# Plot data\n",
    "plt.boxplot(plot_data)\n",
    "plt.xticks(range(1, len(dicts)+1),['Reproduction', 'No recursion', 'Delete statements'])\n",
    "plt.title('Mean value of max(insertions, deletions)\\nof the commits per simulation')\n",
    "plt.ylabel('Mean lines changed')\n",
    "plt.savefig('lines_big.png')"
   ]
  },
  {
   "cell_type": "code",
   "execution_count": 16,
   "metadata": {},
   "outputs": [
    {
     "data": {
      "image/png": "[encoded data removed]",
      "text/plain": [
       "<Figure size 432x288 with 1 Axes>"
      ]
     },
     "metadata": {
      "needs_background": "light"
     },
     "output_type": "display_data"
    }
   ],
   "source": [
    "# Get data\n",
    "plot_data = []\n",
    "for i in range(len(dicts)):\n",
    "    plot_data.append(np.array(dicts[i]['lines_sum']))\n",
    "    \n",
    "# Plot data\n",
    "plt.boxplot(plot_data)\n",
    "plt.xticks(range(1, len(dicts)+1),['Reproduction', 'No recursion', 'Delete statements'])\n",
    "plt.title('Mean lines changes in the commits per simulation')\n",
    "plt.ylabel('Mean lines changed')\n",
    "plt.savefig('lines_sum.png')"
   ]
  },
  {
   "cell_type": "markdown",
   "metadata": {},
   "source": [
    "Changes"
   ]
  },
  {
   "cell_type": "code",
   "execution_count": 17,
   "metadata": {},
   "outputs": [
    {
     "data": {
      "image/png": "[encoded data removed]",
      "text/plain": [
       "<Figure size 432x288 with 1 Axes>"
      ]
     },
     "metadata": {
      "needs_background": "light"
     },
     "output_type": "display_data"
    }
   ],
   "source": [
    "# Get data\n",
    "plot_data = []\n",
    "for i in range(len(dicts)):\n",
    "    plot_data.append(np.array(dicts[i]['changes_big']))\n",
    "    \n",
    "# Plot data\n",
    "plt.boxplot(plot_data)\n",
    "plt.xticks(range(1, len(dicts)+1),['Reproduction', 'No recursion', 'Delete statements'])\n",
    "plt.title('Mean value of max(insertions, deletions) changes\\nof the commits per simulation')\n",
    "plt.ylabel('Mean changed')\n",
    "plt.savefig('changes_big.png')"
   ]
  },
  {
   "cell_type": "code",
   "execution_count": 18,
   "metadata": {},
   "outputs": [
    {
     "data": {
      "image/png": "[encoded data removed]",
      "text/plain": [
       "<Figure size 432x288 with 1 Axes>"
      ]
     },
     "metadata": {
      "needs_background": "light"
     },
     "output_type": "display_data"
    }
   ],
   "source": [
    "# Get data\n",
    "plot_data = []\n",
    "for i in range(len(dicts)):\n",
    "    plot_data.append(np.array(dicts[i]['changes_sum']))\n",
    "    \n",
    "# Plot data\n",
    "plt.boxplot(plot_data)\n",
    "plt.xticks(range(1, len(dicts)+1),['Reproduction', 'No recursion', 'Delete statements'])\n",
    "plt.title('Mean changes in the commits per simulation')\n",
    "plt.ylabel('Mean changes')\n",
    "plt.savefig('changes_sum.png')"
   ]
  },
  {
   "cell_type": "markdown",
   "metadata": {},
   "source": [
    "Number of commits"
   ]
  },
  {
   "cell_type": "code",
   "execution_count": 19,
   "metadata": {},
   "outputs": [
    {
     "data": {
      "image/png": "[encoded data removed]",
      "text/plain": [
       "<Figure size 432x288 with 1 Axes>"
      ]
     },
     "metadata": {
      "needs_background": "light"
     },
     "output_type": "display_data"
    }
   ],
   "source": [
    "# Get data\n",
    "plot_data = []\n",
    "for i in range(len(dicts)):\n",
    "    plot_data.append(np.array(dicts[i]['num_commits']))\n",
    "    \n",
    "# Plot data\n",
    "plt.boxplot(plot_data)\n",
    "plt.xticks(range(1, len(dicts)+1),['Reproduction', 'No recursion', 'Delete statements'])\n",
    "plt.title('Number of commits per simulation')\n",
    "plt.ylabel('Number of commits')\n",
    "plt.savefig('num_commits.png')"
   ]
  },
  {
   "cell_type": "markdown",
   "metadata": {},
   "source": [
    "Proportions of last actions per commit"
   ]
  },
  {
   "cell_type": "code",
   "execution_count": 21,
   "metadata": {},
   "outputs": [
    {
     "data": {
      "image/png": "[encoded data removed]",
      "text/plain": [
       "<Figure size 432x288 with 1 Axes>"
      ]
     },
     "metadata": {
      "needs_background": "light"
     },
     "output_type": "display_data"
    }
   ],
   "source": [
    "colors = ['blue', 'orange', 'green', 'purple']\n",
    "\n",
    "# Pplot the real probabilities\n",
    "plt.scatter(1, .45, c=colors[0], label='update')\n",
    "plt.scatter(1, .4, c=colors[1], label='call')\n",
    "plt.scatter(1, .05, c=colors[2], label='remove')\n",
    "plt.scatter(1, .1, c=colors[3], label='create')\n",
    "    \n",
    "plot_data = []\n",
    "for i in range(len(dicts)):\n",
    "    update, call, remove, create = zip(*dicts[i]['action_props'])\n",
    "    plt.scatter(i+2, np.array(update).mean(), c=colors[0])\n",
    "    plt.scatter(i+2, np.array(call).mean(), c=colors[1])\n",
    "    plt.scatter(i+2, np.array(remove).mean(), c=colors[2])\n",
    "    plt.scatter(i+2, np.array(create).mean(), c=colors[3])\n",
    "\n",
    "plt.xticks(range(1, len(dicts)+2),['Probabilities\\naction picked', 'Reproduction', 'No recursion', 'Delete statements'])\n",
    "plt.title('Proportion of the actions at commits per simulation')\n",
    "plt.ylabel('Proportion of actions')\n",
    "plt.legend(loc='center left', bbox_to_anchor=(1, 0.5))\n",
    "plt.savefig('action_props.png')"
   ]
  },
  {
   "cell_type": "markdown",
   "metadata": {},
   "source": [
    "Correlations between fmin and ... action, code size, changes, step"
   ]
  },
  {
   "cell_type": "code",
   "execution_count": null,
   "metadata": {},
   "outputs": [],
   "source": [
    "#TODO"
   ]
  },
  {
   "cell_type": "code",
   "execution_count": null,
   "metadata": {},
   "outputs": [],
   "source": []
  }
 ],
 "metadata": {
  "kernelspec": {
   "display_name": "Python 3",
   "language": "python",
   "name": "python3"
  },
  "language_info": {
   "codemirror_mode": {
    "name": "ipython",
    "version": 3
   },
   "file_extension": ".py",
   "mimetype": "text/x-python",
   "name": "python",
   "nbconvert_exporter": "python",
   "pygments_lexer": "ipython3",
   "version": "3.6.8"
  }
 },
 "nbformat": 4,
 "nbformat_minor": 2
}
