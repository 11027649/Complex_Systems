{
 "cells": [
  {
   "cell_type": "code",
   "execution_count": 4,
   "metadata": {},
   "outputs": [],
   "source": [
    "import pandas as pd\n",
    "import matplotlib.pyplot as plt\n",
    "import numpy as np"
   ]
  },
  {
   "cell_type": "markdown",
   "metadata": {},
   "source": [
    "Read data"
   ]
  },
  {
   "cell_type": "code",
   "execution_count": 45,
   "metadata": {},
   "outputs": [],
   "source": [
    "def find_commits(data, f0, at_final=False, ftype='fmin'):\n",
    "    \"\"\" \n",
    "    Returns a list with the timesteps where the fmin >= f0 and at the final timestep\n",
    "    \"\"\"\n",
    "    commits = [data['step'].iloc[i] for i in range(len(data)) if data[ftype].iloc[i] >= f0]\n",
    "    if at_final and commits[-1] != data['step'].iloc[-1]:\n",
    "        commits += [data['step'].iloc[-1]]\n",
    "    return commits"
   ]
  },
  {
   "cell_type": "code",
   "execution_count": 6,
   "metadata": {},
   "outputs": [
    {
     "ename": "FileNotFoundError",
     "evalue": "[Errno 2] File b'mrs_result__20_11_57_45.csv' does not exist: b'mrs_result__20_11_57_45.csv'",
     "output_type": "error",
     "traceback": [
      "\u001b[1;31m---------------------------------------------------------------------------\u001b[0m",
      "\u001b[1;31mFileNotFoundError\u001b[0m                         Traceback (most recent call last)",
      "\u001b[1;32m<ipython-input-6-409e17ce08d6>\u001b[0m in \u001b[0;36m<module>\u001b[1;34m\u001b[0m\n\u001b[0;32m      3\u001b[0m \u001b[1;31m# data = pd.read_csv('../model/results/'+filename)\u001b[0m\u001b[1;33m\u001b[0m\u001b[1;33m\u001b[0m\u001b[1;33m\u001b[0m\u001b[0m\n\u001b[0;32m      4\u001b[0m \u001b[1;33m\u001b[0m\u001b[0m\n\u001b[1;32m----> 5\u001b[1;33m \u001b[0mdata_MSR\u001b[0m \u001b[1;33m=\u001b[0m \u001b[0mpd\u001b[0m\u001b[1;33m.\u001b[0m\u001b[0mread_csv\u001b[0m\u001b[1;33m(\u001b[0m\u001b[1;34m'mrs_result__20_11_57_45.csv'\u001b[0m\u001b[1;33m)\u001b[0m\u001b[1;33m[\u001b[0m\u001b[1;36m30000\u001b[0m\u001b[1;33m:\u001b[0m\u001b[1;33m]\u001b[0m\u001b[1;33m\u001b[0m\u001b[1;33m\u001b[0m\u001b[0m\n\u001b[0m\u001b[0;32m      6\u001b[0m \u001b[0mdata_with\u001b[0m \u001b[1;33m=\u001b[0m \u001b[0mpd\u001b[0m\u001b[1;33m.\u001b[0m\u001b[0mread_csv\u001b[0m\u001b[1;33m(\u001b[0m\u001b[1;34m'result_rec0_20_11_39_55_withrec.csv'\u001b[0m\u001b[1;33m)\u001b[0m\u001b[1;33m[\u001b[0m\u001b[1;36m30000\u001b[0m\u001b[1;33m:\u001b[0m\u001b[1;33m]\u001b[0m\u001b[1;33m\u001b[0m\u001b[1;33m\u001b[0m\u001b[0m\n\u001b[0;32m      7\u001b[0m \u001b[0mdata_mult\u001b[0m \u001b[1;33m=\u001b[0m \u001b[0mpd\u001b[0m\u001b[1;33m.\u001b[0m\u001b[0mread_csv\u001b[0m\u001b[1;33m(\u001b[0m\u001b[1;34m'result_0_19_20_53_34_withmult.csv'\u001b[0m\u001b[1;33m)\u001b[0m\u001b[1;33m[\u001b[0m\u001b[1;36m30000\u001b[0m\u001b[1;33m:\u001b[0m\u001b[1;33m]\u001b[0m\u001b[1;33m\u001b[0m\u001b[1;33m\u001b[0m\u001b[0m\n",
      "\u001b[1;32mc:\\users\\mozya\\appdata\\local\\programs\\python\\python37\\lib\\site-packages\\pandas\\io\\parsers.py\u001b[0m in \u001b[0;36mparser_f\u001b[1;34m(filepath_or_buffer, sep, delimiter, header, names, index_col, usecols, squeeze, prefix, mangle_dupe_cols, dtype, engine, converters, true_values, false_values, skipinitialspace, skiprows, skipfooter, nrows, na_values, keep_default_na, na_filter, verbose, skip_blank_lines, parse_dates, infer_datetime_format, keep_date_col, date_parser, dayfirst, iterator, chunksize, compression, thousands, decimal, lineterminator, quotechar, quoting, doublequote, escapechar, comment, encoding, dialect, tupleize_cols, error_bad_lines, warn_bad_lines, delim_whitespace, low_memory, memory_map, float_precision)\u001b[0m\n\u001b[0;32m    700\u001b[0m                     skip_blank_lines=skip_blank_lines)\n\u001b[0;32m    701\u001b[0m \u001b[1;33m\u001b[0m\u001b[0m\n\u001b[1;32m--> 702\u001b[1;33m         \u001b[1;32mreturn\u001b[0m \u001b[0m_read\u001b[0m\u001b[1;33m(\u001b[0m\u001b[0mfilepath_or_buffer\u001b[0m\u001b[1;33m,\u001b[0m \u001b[0mkwds\u001b[0m\u001b[1;33m)\u001b[0m\u001b[1;33m\u001b[0m\u001b[1;33m\u001b[0m\u001b[0m\n\u001b[0m\u001b[0;32m    703\u001b[0m \u001b[1;33m\u001b[0m\u001b[0m\n\u001b[0;32m    704\u001b[0m     \u001b[0mparser_f\u001b[0m\u001b[1;33m.\u001b[0m\u001b[0m__name__\u001b[0m \u001b[1;33m=\u001b[0m \u001b[0mname\u001b[0m\u001b[1;33m\u001b[0m\u001b[1;33m\u001b[0m\u001b[0m\n",
      "\u001b[1;32mc:\\users\\mozya\\appdata\\local\\programs\\python\\python37\\lib\\site-packages\\pandas\\io\\parsers.py\u001b[0m in \u001b[0;36m_read\u001b[1;34m(filepath_or_buffer, kwds)\u001b[0m\n\u001b[0;32m    427\u001b[0m \u001b[1;33m\u001b[0m\u001b[0m\n\u001b[0;32m    428\u001b[0m     \u001b[1;31m# Create the parser.\u001b[0m\u001b[1;33m\u001b[0m\u001b[1;33m\u001b[0m\u001b[1;33m\u001b[0m\u001b[0m\n\u001b[1;32m--> 429\u001b[1;33m     \u001b[0mparser\u001b[0m \u001b[1;33m=\u001b[0m \u001b[0mTextFileReader\u001b[0m\u001b[1;33m(\u001b[0m\u001b[0mfilepath_or_buffer\u001b[0m\u001b[1;33m,\u001b[0m \u001b[1;33m**\u001b[0m\u001b[0mkwds\u001b[0m\u001b[1;33m)\u001b[0m\u001b[1;33m\u001b[0m\u001b[1;33m\u001b[0m\u001b[0m\n\u001b[0m\u001b[0;32m    430\u001b[0m \u001b[1;33m\u001b[0m\u001b[0m\n\u001b[0;32m    431\u001b[0m     \u001b[1;32mif\u001b[0m \u001b[0mchunksize\u001b[0m \u001b[1;32mor\u001b[0m \u001b[0miterator\u001b[0m\u001b[1;33m:\u001b[0m\u001b[1;33m\u001b[0m\u001b[1;33m\u001b[0m\u001b[0m\n",
      "\u001b[1;32mc:\\users\\mozya\\appdata\\local\\programs\\python\\python37\\lib\\site-packages\\pandas\\io\\parsers.py\u001b[0m in \u001b[0;36m__init__\u001b[1;34m(self, f, engine, **kwds)\u001b[0m\n\u001b[0;32m    893\u001b[0m             \u001b[0mself\u001b[0m\u001b[1;33m.\u001b[0m\u001b[0moptions\u001b[0m\u001b[1;33m[\u001b[0m\u001b[1;34m'has_index_names'\u001b[0m\u001b[1;33m]\u001b[0m \u001b[1;33m=\u001b[0m \u001b[0mkwds\u001b[0m\u001b[1;33m[\u001b[0m\u001b[1;34m'has_index_names'\u001b[0m\u001b[1;33m]\u001b[0m\u001b[1;33m\u001b[0m\u001b[1;33m\u001b[0m\u001b[0m\n\u001b[0;32m    894\u001b[0m \u001b[1;33m\u001b[0m\u001b[0m\n\u001b[1;32m--> 895\u001b[1;33m         \u001b[0mself\u001b[0m\u001b[1;33m.\u001b[0m\u001b[0m_make_engine\u001b[0m\u001b[1;33m(\u001b[0m\u001b[0mself\u001b[0m\u001b[1;33m.\u001b[0m\u001b[0mengine\u001b[0m\u001b[1;33m)\u001b[0m\u001b[1;33m\u001b[0m\u001b[1;33m\u001b[0m\u001b[0m\n\u001b[0m\u001b[0;32m    896\u001b[0m \u001b[1;33m\u001b[0m\u001b[0m\n\u001b[0;32m    897\u001b[0m     \u001b[1;32mdef\u001b[0m \u001b[0mclose\u001b[0m\u001b[1;33m(\u001b[0m\u001b[0mself\u001b[0m\u001b[1;33m)\u001b[0m\u001b[1;33m:\u001b[0m\u001b[1;33m\u001b[0m\u001b[1;33m\u001b[0m\u001b[0m\n",
      "\u001b[1;32mc:\\users\\mozya\\appdata\\local\\programs\\python\\python37\\lib\\site-packages\\pandas\\io\\parsers.py\u001b[0m in \u001b[0;36m_make_engine\u001b[1;34m(self, engine)\u001b[0m\n\u001b[0;32m   1120\u001b[0m     \u001b[1;32mdef\u001b[0m \u001b[0m_make_engine\u001b[0m\u001b[1;33m(\u001b[0m\u001b[0mself\u001b[0m\u001b[1;33m,\u001b[0m \u001b[0mengine\u001b[0m\u001b[1;33m=\u001b[0m\u001b[1;34m'c'\u001b[0m\u001b[1;33m)\u001b[0m\u001b[1;33m:\u001b[0m\u001b[1;33m\u001b[0m\u001b[1;33m\u001b[0m\u001b[0m\n\u001b[0;32m   1121\u001b[0m         \u001b[1;32mif\u001b[0m \u001b[0mengine\u001b[0m \u001b[1;33m==\u001b[0m \u001b[1;34m'c'\u001b[0m\u001b[1;33m:\u001b[0m\u001b[1;33m\u001b[0m\u001b[1;33m\u001b[0m\u001b[0m\n\u001b[1;32m-> 1122\u001b[1;33m             \u001b[0mself\u001b[0m\u001b[1;33m.\u001b[0m\u001b[0m_engine\u001b[0m \u001b[1;33m=\u001b[0m \u001b[0mCParserWrapper\u001b[0m\u001b[1;33m(\u001b[0m\u001b[0mself\u001b[0m\u001b[1;33m.\u001b[0m\u001b[0mf\u001b[0m\u001b[1;33m,\u001b[0m \u001b[1;33m**\u001b[0m\u001b[0mself\u001b[0m\u001b[1;33m.\u001b[0m\u001b[0moptions\u001b[0m\u001b[1;33m)\u001b[0m\u001b[1;33m\u001b[0m\u001b[1;33m\u001b[0m\u001b[0m\n\u001b[0m\u001b[0;32m   1123\u001b[0m         \u001b[1;32melse\u001b[0m\u001b[1;33m:\u001b[0m\u001b[1;33m\u001b[0m\u001b[1;33m\u001b[0m\u001b[0m\n\u001b[0;32m   1124\u001b[0m             \u001b[1;32mif\u001b[0m \u001b[0mengine\u001b[0m \u001b[1;33m==\u001b[0m \u001b[1;34m'python'\u001b[0m\u001b[1;33m:\u001b[0m\u001b[1;33m\u001b[0m\u001b[1;33m\u001b[0m\u001b[0m\n",
      "\u001b[1;32mc:\\users\\mozya\\appdata\\local\\programs\\python\\python37\\lib\\site-packages\\pandas\\io\\parsers.py\u001b[0m in \u001b[0;36m__init__\u001b[1;34m(self, src, **kwds)\u001b[0m\n\u001b[0;32m   1851\u001b[0m         \u001b[0mkwds\u001b[0m\u001b[1;33m[\u001b[0m\u001b[1;34m'usecols'\u001b[0m\u001b[1;33m]\u001b[0m \u001b[1;33m=\u001b[0m \u001b[0mself\u001b[0m\u001b[1;33m.\u001b[0m\u001b[0musecols\u001b[0m\u001b[1;33m\u001b[0m\u001b[1;33m\u001b[0m\u001b[0m\n\u001b[0;32m   1852\u001b[0m \u001b[1;33m\u001b[0m\u001b[0m\n\u001b[1;32m-> 1853\u001b[1;33m         \u001b[0mself\u001b[0m\u001b[1;33m.\u001b[0m\u001b[0m_reader\u001b[0m \u001b[1;33m=\u001b[0m \u001b[0mparsers\u001b[0m\u001b[1;33m.\u001b[0m\u001b[0mTextReader\u001b[0m\u001b[1;33m(\u001b[0m\u001b[0msrc\u001b[0m\u001b[1;33m,\u001b[0m \u001b[1;33m**\u001b[0m\u001b[0mkwds\u001b[0m\u001b[1;33m)\u001b[0m\u001b[1;33m\u001b[0m\u001b[1;33m\u001b[0m\u001b[0m\n\u001b[0m\u001b[0;32m   1854\u001b[0m         \u001b[0mself\u001b[0m\u001b[1;33m.\u001b[0m\u001b[0munnamed_cols\u001b[0m \u001b[1;33m=\u001b[0m \u001b[0mself\u001b[0m\u001b[1;33m.\u001b[0m\u001b[0m_reader\u001b[0m\u001b[1;33m.\u001b[0m\u001b[0munnamed_cols\u001b[0m\u001b[1;33m\u001b[0m\u001b[1;33m\u001b[0m\u001b[0m\n\u001b[0;32m   1855\u001b[0m \u001b[1;33m\u001b[0m\u001b[0m\n",
      "\u001b[1;32mpandas\\_libs\\parsers.pyx\u001b[0m in \u001b[0;36mpandas._libs.parsers.TextReader.__cinit__\u001b[1;34m()\u001b[0m\n",
      "\u001b[1;32mpandas\\_libs\\parsers.pyx\u001b[0m in \u001b[0;36mpandas._libs.parsers.TextReader._setup_parser_source\u001b[1;34m()\u001b[0m\n",
      "\u001b[1;31mFileNotFoundError\u001b[0m: [Errno 2] File b'mrs_result__20_11_57_45.csv' does not exist: b'mrs_result__20_11_57_45.csv'"
     ]
    }
   ],
   "source": [
    "# Change filename to the name of the file in model/results you want to plot\n",
    "# filename = 'result_0_19_20_53_34_withrec.csv'\n",
    "# data = pd.read_csv('../model/results/'+filename)\n",
    "\n",
    "data_MSR = pd.read_csv('mrs_result__20_11_57_45.csv')[30000:]\n",
    "data_with = pd.read_csv('result_rec0_20_11_39_55_withrec.csv')[30000:]\n",
    "data_mult = pd.read_csv('result_0_19_20_53_34_withmult.csv')[30000:]\n",
    "\n",
    "data_without = pd.read_csv('result_0_19_21_16_10_withoutrec.csv')[30000:]\n",
    "data_stats = pd.read_csv('result_0_19_21_42_44_addedstats.csv')[30000:]\n",
    "\n",
    "datas = {'MSR':data_MSR[30000:], 'with rec':data_with[30000:], 'with mult':data_mult[30000:], 'without rec':data_without[30000:]}\n",
    "colors = {'with rec':'orange', 'without rec':'red', 'with mult':'green', 'MSR':'blue'}\n"
   ]
  },
  {
   "cell_type": "code",
   "execution_count": 93,
   "metadata": {},
   "outputs": [],
   "source": [
    "# Change filename to the name of the file in model/results you want to plot\n",
    "# filename = 'result_0_19_20_53_34_withrec.csv'\n",
    "# data = pd.read_csv('../model/results/'+filename)\n",
    "\n",
    "# data_MSR = pd.read_csv('mrs_result__20_11_57_45.csv')\n",
    "data_with = pd.read_csv('result_rec0_20_11_39_55_withrec.csv')\n",
    "data_mult = pd.read_csv('result_0_19_20_53_34_withmult.csv')\n",
    "\n",
    "data_page = pd.read_csv('result_reproduce_fit1_its10000_time21_02_37_36.csv')\n",
    "\n",
    "data_without = pd.read_csv('result_0_19_21_16_10_withoutrec.csv')\n",
    "data_stats = pd.read_csv('result_0_19_21_42_44_addedstats.csv')\n",
    "\n",
    "datas = {'page': data_page}\n",
    "colors = {'page': 'red'}\n",
    "\n",
    "# datas = {'MSR':data_MSR, 'with rec':data_with, 'with mult':data_mult, 'without rec':data_without}\n",
    "# colors = {'with rec':'orange', 'without rec':'red', 'with mult':'green', 'MSR':'blue'}\n"
   ]
  },
  {
   "cell_type": "markdown",
   "metadata": {},
   "source": [
    "Plot the lowest fitness per timestep"
   ]
  },
  {
   "cell_type": "code",
   "execution_count": 127,
   "metadata": {},
   "outputs": [],
   "source": [
    "def plot_fitness(data, name, f0=0.072):\n",
    "    commits = find_commits(data, f0, ftype='fmean')    \n",
    "    for commit in commits:\n",
    "        plt.axvline(commit, alpha=.01, linestyle='-.')\n",
    "    print(len(commits))\n",
    "    plt.plot(data['fmean'])\n",
    "    plt.title('Lowest fitness in repository per timestep, '+ name)\n",
    "    plt.xlabel('Time')\n",
    "    plt.ylabel('Fmin')\n",
    "    plt.show()"
   ]
  },
  {
   "cell_type": "code",
   "execution_count": 126,
   "metadata": {},
   "outputs": [
    {
     "name": "stdout",
     "output_type": "stream",
     "text": [
      "1661\n"
     ]
    },
    {
     "data": {
      "image/png": "[encoded data removed]",
      "text/plain": [
       "<Figure size 432x288 with 1 Axes>"
      ]
     },
     "metadata": {
      "needs_background": "light"
     },
     "output_type": "display_data"
    }
   ],
   "source": [
    "# plot_fitness(data_MSR, 'MSR')\n",
    "# plot_fitness(data_with, 'with rec')\n",
    "# plot_fitness(data_mult, 'with mult')\n",
    "# plot_fitness(data_without, 'without rec')\n",
    "plot_fitness(data_page, 'page')"
   ]
  },
  {
   "cell_type": "markdown",
   "metadata": {},
   "source": [
    "Plot lowest fitness at each commit timepoint"
   ]
  },
  {
   "cell_type": "code",
   "execution_count": 18,
   "metadata": {},
   "outputs": [],
   "source": [
    "def plot_commits(data, name, f0=.5):\n",
    "    commits = find_commits(data, f0)    \n",
    "    plt.scatter(range(len(commits)), data['fmin'].loc[commits], s=3)\n",
    "    plt.title('Lowest fitness in repository per commit, '+name)\n",
    "    plt.xlabel('Commit')\n",
    "    plt.ylabel('Fmin')\n",
    "    plt.show()\n",
    "    \n",
    "def plot_commitsteps(data, name, log=True, f0=.5):\n",
    "    counter = 0\n",
    "    commits = find_commits(data, f0)\n",
    "    if len(commits)>0:\n",
    "        commitsteps = [commits[0]] + [commits[i]-commits[i-1] for i in range(1, len(commits))]\n",
    "        commitsteps = np.array(commitsteps)\n",
    "\n",
    "        plt.scatter(range(len(commitsteps)), commitsteps,label=name, s=5, alpha=.2, c='green')\n",
    "    if log:\n",
    "        plt.yscale('log')\n",
    "    plt.title('Steps per commit, '+name)\n",
    "    plt.show()\n",
    "    \n",
    "    \n"
   ]
  },
  {
   "cell_type": "code",
   "execution_count": null,
   "metadata": {
    "scrolled": false
   },
   "outputs": [],
   "source": [
    "plot_commits(data_MSR, 'MSR')\n",
    "plot_commitsteps(data_MSR, 'MSR')\n",
    "\n",
    "plot_commits(data_with, 'with rec')\n",
    "plot_commitsteps(data_with, 'with rec')\n",
    "\n",
    "plot_commits(data_mult, 'with mult')\n",
    "plot_commitsteps(data_mult, 'with mult', log=False)\n",
    "\n",
    "plot_commits(data_without, 'without rec')\n",
    "plot_commitsteps(data_without, 'without rec', log=False)\n"
   ]
  },
  {
   "cell_type": "markdown",
   "metadata": {},
   "source": [
    "Plot the lowest fitness at each commit, using timestep xscale"
   ]
  },
  {
   "cell_type": "code",
   "execution_count": null,
   "metadata": {},
   "outputs": [],
   "source": [
    "def plot_commitstep(data, name, f0=.5):\n",
    "    commits = find_commits(data, f0)    \n",
    "    plt.scatter(commits, data['fmin'].loc[commits], s=1)\n",
    "    plt.title('Lowest fitness in a commit per step, '+name)\n",
    "    plt.xlabel('Commit')\n",
    "    plt.ylabel('Fmin')\n",
    "    plt.show()"
   ]
  },
  {
   "cell_type": "code",
   "execution_count": null,
   "metadata": {},
   "outputs": [],
   "source": [
    "plot_commitstep(data_MSR, 'MSR')\n",
    "plot_commitstep(data_with, 'with rec')\n",
    "plot_commitstep(data_mult, 'with mult')\n",
    "plot_commitstep(data_without, 'without rec')"
   ]
  },
  {
   "cell_type": "markdown",
   "metadata": {},
   "source": [
    "Steps per commit"
   ]
  },
  {
   "cell_type": "code",
   "execution_count": null,
   "metadata": {},
   "outputs": [],
   "source": [
    "def plot_stepsizes(datas, colors, f0=.5):\n",
    "    counter = 0\n",
    "    for data in datas:\n",
    "    \n",
    "        commits = find_commits(datas[data], f0)\n",
    "        if len(commits)>0:\n",
    "            commitsteps = [commits[0]] + [commits[i]-commits[i-1] for i in range(1, len(commits))]\n",
    "            commitsteps = np.array(commitsteps)\n",
    "\n",
    "            plt.plot(range(len(commitsteps)), commitsteps, c=colors[data],label=data)\n",
    "\n",
    "            counter += 1\n",
    "\n",
    "            plt.title('Number of steps per commit')\n",
    "            plt.xlabel('Commit')\n",
    "            plt.ylabel('Steps per commit')\n",
    "    #         plt.yscale('log')\n",
    "            plt.legend(loc='center left', bbox_to_anchor=(1, 0.5))\n",
    "    plt.show()\n",
    "    \n",
    "    \n"
   ]
  },
  {
   "cell_type": "code",
   "execution_count": null,
   "metadata": {},
   "outputs": [],
   "source": [
    "plot_stepsizes(datas, colors)   \n"
   ]
  },
  {
   "cell_type": "code",
   "execution_count": null,
   "metadata": {},
   "outputs": [],
   "source": [
    "def scatter_stepsizes(datas, colors, f0=.5):\n",
    "    counter = 0\n",
    "    for data in datas:\n",
    "    \n",
    "        commits = find_commits(datas[data], f0)\n",
    "        if len(commits)>0:\n",
    "            commitsteps = [commits[0]] + [commits[i]-commits[i-1] for i in range(1, len(commits))]\n",
    "            commitsteps = np.array(commitsteps)\n",
    "\n",
    "            plt.scatter(counter, commitsteps.mean(), c=colors[data], label=data)\n",
    "    #         plt.scatter(counter, commitsteps.mean()-commitsteps.std(), c=colors[data], alpha=.5, label='std')\n",
    "    #         plt.scatter(counter, commitsteps.mean()+commitsteps.std(), c=colors[data], alpha=.5)\n",
    "    #         plt.scatter(counter, commitsteps.min(), c=colors[data], alpha=.3, label='min/max')\n",
    "    #         plt.scatter(counter, commitsteps.max(), c=colors[data], alpha=.3, label='')\n",
    "\n",
    "            counter += 1\n",
    "\n",
    "    plt.title('Number of steps per commit')\n",
    "    plt.xlabel('Exp. condition')\n",
    "    plt.ylabel('Steps per commit')\n",
    "    plt.xticks(range(len(datas)), list(datas), rotation='vertical')\n",
    "#     plt.yscale('log')\n",
    "    plt.legend(loc='center left', bbox_to_anchor=(1, 0.5))\n",
    "    \n",
    "    \n"
   ]
  },
  {
   "cell_type": "code",
   "execution_count": null,
   "metadata": {},
   "outputs": [],
   "source": [
    "\n",
    "# datas = {'MSR':data_MSR, 'with rec':data_with}\n",
    "scatter_stepsizes(datas, colors)   \n"
   ]
  },
  {
   "cell_type": "markdown",
   "metadata": {},
   "source": [
    "Correlation between commit steps and fmin at the commit"
   ]
  },
  {
   "cell_type": "code",
   "execution_count": null,
   "metadata": {},
   "outputs": [],
   "source": [
    "import scipy.stats\n",
    "def corr_fmin_steps(data, f0=.5):\n",
    "    commits = find_commits(data, f0)    \n",
    "    fmins = data['fmin'].loc[commits]\n",
    "    if len(commits)>0:\n",
    "        commitsteps = [commits[0]] + [commits[i]-commits[i-1] for i in range(1, len(commits))]\n",
    "        return scipy.stats.pearsonr(fmins, commitsteps)\n",
    "\n",
    "print('pearsons coefficient and pvalue')\n",
    "for data in datas:\n",
    "    print(data, corr_fmin_steps(datas[data]))"
   ]
  },
  {
   "cell_type": "code",
   "execution_count": null,
   "metadata": {},
   "outputs": [],
   "source": [
    "def scatter_stepsizes_fmin(datas, colors, f0=.5):\n",
    "    counter = 0\n",
    "    for data in datas:\n",
    "#         if data == 'with mult':\n",
    "        if True:\n",
    "            commits = find_commits(datas[data], f0)\n",
    "            if len(commits)>0:\n",
    "                commitsteps = [commits[0]] + [commits[i]-commits[i-1] for i in range(1, len(commits))]\n",
    "                commitsteps = np.array(commitsteps)\n",
    "        #         print(datas[data])\n",
    "                plt.scatter(datas[data]['fmin'].loc[commits], commitsteps, c=colors[data], label=data)\n",
    "\n",
    "                counter += 1\n",
    "\n",
    "                plt.title('Number of steps per commit')\n",
    "                plt.xlabel('fmin')\n",
    "                plt.ylabel('Steps per commit')\n",
    "        #         plt.xticks(range(len(datas)), list(datas), rotation='vertical')\n",
    "                plt.yscale('log')\n",
    "    #             plt.ylim([0,100])\n",
    "    #             print(commitsteps)\n",
    "                plt.legend(loc='center left', bbox_to_anchor=(1, 0.5))\n",
    "                plt.show()\n",
    "\n",
    "    \n"
   ]
  },
  {
   "cell_type": "code",
   "execution_count": null,
   "metadata": {},
   "outputs": [],
   "source": [
    "scatter_stepsizes_fmin(datas, colors)   \n"
   ]
  },
  {
   "cell_type": "markdown",
   "metadata": {},
   "source": [
    "Info on the last action before a commit"
   ]
  },
  {
   "cell_type": "code",
   "execution_count": null,
   "metadata": {},
   "outputs": [],
   "source": [
    "print('used proportions:\\n', \n",
    "    'update_method, 0.45\\n',\n",
    "    'call_method, 0.4\\n',\n",
    "    'delete_method, 0.05\\n',\n",
    "         'create_method, 0.1\\n',\n",
    "    'create_class, 0.1\\n')\n",
    "# Plot the used probabilities\n",
    "used_props = [.45, .4, .05, .1]\n",
    "for i in range(len(used_props)):\n",
    "    if i ==0:\n",
    "        plt.scatter(i, used_props[i], c='black', label='probs')\n",
    "    else:\n",
    "        plt.scatter(i, used_props[i], c='black')\n",
    "\n",
    "def action_info(data, name,colors, f0=.5):\n",
    "    \n",
    "    # Print propotions\n",
    "    print(name)\n",
    "    commits = find_commits(data, f0)        \n",
    "    print('number of commits', len(commits))\n",
    "\n",
    "    print(data['action'].loc[commits].value_counts()/len(commits))\n",
    "    print()\n",
    "    \n",
    "    # Plot the proportions in scatter plot\n",
    "    counts = data['action'].loc[commits].value_counts()\n",
    "    for i in range(len(counts)):\n",
    "        if i ==0:\n",
    "            plt.scatter(i, counts[i]/len(commits), c=colors[name], label=name)\n",
    "        else:\n",
    "            plt.scatter(i, counts[i]/len(commits), c=colors[name])\n",
    "\n",
    "\n",
    "# action_info(data_MSR, 'MSR')\n",
    "action_info(data_with, 'with rec', colors)\n",
    "action_info(data_mult, 'with mult', colors)\n",
    "action_info(data_without, 'without rec',colors)\n",
    "\n",
    "plt.title('Proportions of last actions per commit')\n",
    "plt.xlabel('Action')\n",
    "plt.ylabel('Proportion')\n",
    "plt.xticks([0,1,2,3], ['update', 'call', 'remove', 'create'], rotation='vertical')\n",
    "plt.legend()\n",
    "plt.show()"
   ]
  },
  {
   "cell_type": "markdown",
   "metadata": {},
   "source": [
    "## Stats on fitness"
   ]
  },
  {
   "cell_type": "code",
   "execution_count": null,
   "metadata": {},
   "outputs": [],
   "source": [
    "def plot_stats(data_stats):\n",
    "    plt.plot(data_stats['fmean'], label='fmean')\n",
    "    plt.plot(data_stats['fmean']+data_stats['fstd'], c='orange', alpha=.3, label='std')\n",
    "    plt.plot(data_stats['fmean']-data_stats['fstd'], c='orange', alpha=.3)\n",
    "    plt.plot(data_stats['fmin'], c='green', alpha=.3, label='min/max')\n",
    "    plt.plot(data_stats['fmax'], c='green', alpha=.3, label='')\n",
    "\n",
    "    plt.title('Mean fitness of all methods')\n",
    "    plt.xlabel('Time')\n",
    "    plt.ylabel('Fitness')\n",
    "    plt.legend()\n",
    "    plt.show()\n",
    "\n",
    "\n",
    "    plt.plot(data_stats['fnum'])\n",
    "    plt.ylabel('Number of methods')\n",
    "    plt.xlabel('Time')\n",
    "    plt.title('Number of methods over time')"
   ]
  },
  {
   "cell_type": "code",
   "execution_count": null,
   "metadata": {},
   "outputs": [],
   "source": [
    "# Without recursion\n",
    "plot_stats(data_stats)"
   ]
  },
  {
   "cell_type": "code",
   "execution_count": null,
   "metadata": {},
   "outputs": [],
   "source": [
    "# With recursion\n",
    "plot_stats(data_with)"
   ]
  },
  {
   "cell_type": "code",
   "execution_count": null,
   "metadata": {},
   "outputs": [],
   "source": []
  }
 ],
 "metadata": {
  "kernelspec": {
   "display_name": "Python 3",
   "language": "python",
   "name": "python3"
  },
  "language_info": {
   "codemirror_mode": {
    "name": "ipython",
    "version": 3
   },
   "file_extension": ".py",
   "mimetype": "text/x-python",
   "name": "python",
   "nbconvert_exporter": "python",
   "pygments_lexer": "ipython3",
   "version": "3.7.3"
  }
 },
 "nbformat": 4,
 "nbformat_minor": 2
}
